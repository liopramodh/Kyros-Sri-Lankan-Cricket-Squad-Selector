{
 "cells": [
  {
   "cell_type": "markdown",
   "id": "b5974fbd",
   "metadata": {},
   "source": [
    "1: Import Libraries & Load Data"
   ]
  },
  {
   "cell_type": "code",
   "execution_count": 3,
   "id": "53599f74",
   "metadata": {},
   "outputs": [],
   "source": [
    "import pandas as pd\n",
    "import joblib\n",
    "from sklearn.ensemble import RandomForestClassifier"
   ]
  },
  {
   "cell_type": "code",
   "execution_count": 4,
   "id": "2771bc8b",
   "metadata": {},
   "outputs": [],
   "source": [
    "# === Load T20 player datasets ===\n",
    "players_df = pd.read_csv(r'G:\\SLTC\\8th sem\\machine learning\\mini project\\players.csv')\n",
    "batting_df = pd.read_csv(r'G:\\SLTC\\8th sem\\machine learning\\mini project\\T20\\T20_Batting.csv')\n",
    "bowling_df = pd.read_csv(r'G:\\SLTC\\8th sem\\machine learning\\mini project\\T20\\T20_Bolling.csv')\n"
   ]
  },
  {
   "cell_type": "markdown",
   "id": "a7d899e2",
   "metadata": {},
   "source": [
    "2: Clean & Prepare Batting Data"
   ]
  },
  {
   "cell_type": "code",
   "execution_count": 5,
   "id": "13561bf5",
   "metadata": {},
   "outputs": [],
   "source": [
    "# Merge batting data with player info\n",
    "batting_df = pd.merge(players_df[['PlayerID', 'Full Name', 'Playing Role']], batting_df, on='PlayerID', how='inner')\n",
    "\n",
    "# Rename and select features\n",
    "batting_df.rename(columns={\n",
    "    'Runs': 'Runs_bat',\n",
    "    'Ave': 'Avg_bat',\n",
    "    'SR': 'SR_bat',\n",
    "    'Mat': 'Mat_bat'\n",
    "}, inplace=True)\n",
    "\n",
    "batting_features = ['Runs_bat', 'Avg_bat', 'SR_bat', 'Mat_bat']\n",
    "batting_df[batting_features] = batting_df[batting_features].apply(pd.to_numeric, errors='coerce').fillna(0)\n"
   ]
  },
  {
   "cell_type": "markdown",
   "id": "757e7fa7",
   "metadata": {},
   "source": [
    "3: Clean & Prepare Bowling Data"
   ]
  },
  {
   "cell_type": "code",
   "execution_count": 6,
   "id": "5d241830",
   "metadata": {},
   "outputs": [],
   "source": [
    "# Merge bowling data with player info\n",
    "bowling_df = pd.merge(players_df[['PlayerID', 'Full Name', 'Playing Role']], bowling_df, on='PlayerID', how='inner')\n",
    "\n",
    "# Rename and select features\n",
    "bowling_df.rename(columns={\n",
    "    'Wkts': 'Wkts_bowl',\n",
    "    'Econ': 'Econ_bowl',\n",
    "    'Ave': 'Avg_bowl',\n",
    "    'SR': 'SR_bowl'\n",
    "}, inplace=True)\n",
    "\n",
    "bowling_features = ['Wkts_bowl', 'Econ_bowl', 'Avg_bowl', 'SR_bowl']\n",
    "bowling_df[bowling_features] = bowling_df[bowling_features].apply(pd.to_numeric, errors='coerce').fillna(0)\n"
   ]
  },
  {
   "cell_type": "markdown",
   "id": "c9cd5ce3",
   "metadata": {},
   "source": [
    "4: Add Labels and Train Models"
   ]
  },
  {
   "cell_type": "code",
   "execution_count": null,
   "id": "be45b611",
   "metadata": {},
   "outputs": [],
   "source": [
    "# Create dummy labels for selection\n",
    "batting_df['Selected'] = (batting_df['Runs_bat'] > 250).astype(int)\n",
    "bowling_df['Selected'] = (bowling_df['Wkts_bowl'] > 8).astype(int)"
   ]
  },
  {
   "cell_type": "code",
   "execution_count": 8,
   "id": "fe6f922a",
   "metadata": {},
   "outputs": [
    {
     "data": {
      "text/plain": [
       "['bat_model_t20.pkl']"
      ]
     },
     "execution_count": 8,
     "metadata": {},
     "output_type": "execute_result"
    }
   ],
   "source": [
    "# Train model for batters\n",
    "X_bat = batting_df[batting_features]\n",
    "y_bat = batting_df['Selected']\n",
    "bat_model = RandomForestClassifier(n_estimators=100, random_state=42)\n",
    "bat_model.fit(X_bat, y_bat)\n",
    "joblib.dump(bat_model, 'bat_model_t20.pkl')\n"
   ]
  },
  {
   "cell_type": "code",
   "execution_count": null,
   "id": "d2055da9",
   "metadata": {},
   "outputs": [
    {
     "data": {
      "text/plain": [
       "['bowl_model_t20.pkl']"
      ]
     },
     "execution_count": 9,
     "metadata": {},
     "output_type": "execute_result"
    }
   ],
   "source": [
    "# Train model for bowlers\n",
    "X_bowl = bowling_df[bowling_features]\n",
    "y_bowl = bowling_df['Selected']\n",
    "bowl_model = RandomForestClassifier(n_estimators=100, random_state=42)\n",
    "bowl_model.fit(X_bowl, y_bowl)\n",
    "joblib.dump(bowl_model, \n",
    "'bowl_model_t20.pkl')"
   ]
  },
  {
   "cell_type": "markdown",
   "id": "69c0e12a",
   "metadata": {},
   "source": [
    "5: Optional – Evaluate Accuracy"
   ]
  },
  {
   "cell_type": "code",
   "execution_count": 10,
   "id": "ec058f0e",
   "metadata": {},
   "outputs": [
    {
     "name": "stdout",
     "output_type": "stream",
     "text": [
      "📈 Batter Model Accuracy: 1.0\n",
      "📈 Bowler Model Accuracy: 1.0\n"
     ]
    }
   ],
   "source": [
    "print(\"📈 Batter Model Accuracy:\", bat_model.score(X_bat, y_bat))\n",
    "print(\"📈 Bowler Model Accuracy:\", bowl_model.score(X_bowl, y_bowl))"
   ]
  }
 ],
 "metadata": {
  "kernelspec": {
   "display_name": "Python 3",
   "language": "python",
   "name": "python3"
  },
  "language_info": {
   "codemirror_mode": {
    "name": "ipython",
    "version": 3
   },
   "file_extension": ".py",
   "mimetype": "text/x-python",
   "name": "python",
   "nbconvert_exporter": "python",
   "pygments_lexer": "ipython3",
   "version": "3.9.7"
  }
 },
 "nbformat": 4,
 "nbformat_minor": 5
}
