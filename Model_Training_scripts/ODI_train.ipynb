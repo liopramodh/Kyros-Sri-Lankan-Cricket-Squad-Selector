{
 "cells": [
  {
   "cell_type": "markdown",
   "id": "5dc5c7ac",
   "metadata": {},
   "source": [
    "1: Import Libraries & Load Data"
   ]
  },
  {
   "cell_type": "code",
   "execution_count": 1,
   "id": "6b618abf",
   "metadata": {},
   "outputs": [],
   "source": [
    "# 1: Import Libraries & Load Data\n",
    "import pandas as pd\n",
    "import joblib\n",
    "from sklearn.ensemble import RandomForestClassifier\n",
    "\n",
    "# Load ODI datasets\n",
    "players_df = pd.read_csv(r'G:\\SLTC\\8th sem\\machine learning\\mini project\\players.csv')\n",
    "odi_batting_df = pd.read_csv(r'G:\\SLTC\\8th sem\\machine learning\\mini project\\ODI\\ODI_batting.csv')\n",
    "odi_bowling_df = pd.read_csv(r'G:\\SLTC\\8th sem\\machine learning\\mini project\\ODI\\ODI_bawling.csv')\n"
   ]
  },
  {
   "cell_type": "markdown",
   "id": "f98dc2f0",
   "metadata": {},
   "source": [
    "2: Clean & Prepare Batting Data"
   ]
  },
  {
   "cell_type": "code",
   "execution_count": 2,
   "id": "0c921959",
   "metadata": {},
   "outputs": [],
   "source": [
    "# 2: Clean & Prepare ODI Batting Data\n",
    "\n",
    "# Merge player info with batting data\n",
    "odi_batting_df = pd.merge(players_df[['PlayerID', 'Full Name', 'Playing Role']],\n",
    "                          odi_batting_df, on='PlayerID', how='inner')\n",
    "\n",
    "# Rename columns for consistency\n",
    "odi_batting_df.rename(columns={\n",
    "    'Runs': 'Runs_bat',\n",
    "    'Ave': 'Avg_bat',\n",
    "    'SR': 'SR_bat',\n",
    "    'Mat': 'Mat_bat'\n",
    "}, inplace=True)\n",
    "\n",
    "# Select and convert numeric features\n",
    "batting_features_odi = ['Runs_bat', 'Avg_bat', 'SR_bat', 'Mat_bat']\n",
    "odi_batting_df[batting_features_odi] = odi_batting_df[batting_features_odi].apply(pd.to_numeric, errors='coerce').fillna(0)\n"
   ]
  },
  {
   "cell_type": "markdown",
   "id": "43cef581",
   "metadata": {},
   "source": [
    "3: Clean & Prepare Bowling Data"
   ]
  },
  {
   "cell_type": "code",
   "execution_count": 3,
   "id": "73f941f5",
   "metadata": {},
   "outputs": [],
   "source": [
    "# 3: Clean & Prepare ODI Bowling Data\n",
    "\n",
    "# Merge player info with bowling data\n",
    "odi_bowling_df = pd.merge(players_df[['PlayerID', 'Full Name', 'Playing Role']],\n",
    "                          odi_bowling_df, on='PlayerID', how='inner')\n",
    "\n",
    "# Rename columns for consistency\n",
    "odi_bowling_df.rename(columns={\n",
    "    'Wkts': 'Wkts_bowl',\n",
    "    'Econ': 'Econ_bowl',\n",
    "    'Ave': 'Avg_bowl',\n",
    "    'SR': 'SR_bowl'\n",
    "}, inplace=True)\n",
    "\n",
    "# Select and convert numeric features\n",
    "bowling_features_odi = ['Wkts_bowl', 'Econ_bowl', 'Avg_bowl', 'SR_bowl']\n",
    "odi_bowling_df[bowling_features_odi] = odi_bowling_df[bowling_features_odi].apply(pd.to_numeric, errors='coerce').fillna(0)\n"
   ]
  },
  {
   "cell_type": "markdown",
   "id": "bfb46058",
   "metadata": {},
   "source": [
    "4: Add Labels and Train Models"
   ]
  },
  {
   "cell_type": "code",
   "execution_count": 4,
   "id": "27562fa5",
   "metadata": {},
   "outputs": [],
   "source": [
    "# 4: Add Labels (Based on basic thresholds)\n",
    "\n",
    "# You can adjust these thresholds for better performance\n",
    "odi_batting_df['Selected'] = (odi_batting_df['Runs_bat'] > 500).astype(int)\n",
    "odi_bowling_df['Selected'] = (odi_bowling_df['Wkts_bowl'] > 15).astype(int)\n"
   ]
  },
  {
   "cell_type": "markdown",
   "id": "9913e6f4",
   "metadata": {},
   "source": [
    "5: Train & Save Batting Model"
   ]
  },
  {
   "cell_type": "code",
   "execution_count": 5,
   "id": "e643c715",
   "metadata": {},
   "outputs": [
    {
     "data": {
      "text/plain": [
       "['bat_model_odi.pkl']"
      ]
     },
     "execution_count": 5,
     "metadata": {},
     "output_type": "execute_result"
    }
   ],
   "source": [
    "# 5: Train & Save Batting Model for ODI\n",
    "\n",
    "X_bat_odi = odi_batting_df[batting_features_odi]\n",
    "y_bat_odi = odi_batting_df['Selected']\n",
    "\n",
    "bat_model_odi = RandomForestClassifier(n_estimators=100, random_state=42)\n",
    "bat_model_odi.fit(X_bat_odi, y_bat_odi)\n",
    "\n",
    "joblib.dump(bat_model_odi, 'bat_model_odi.pkl')\n"
   ]
  },
  {
   "cell_type": "markdown",
   "id": "5f0e6ae6",
   "metadata": {},
   "source": [
    "6: Train & Save Bowling Model"
   ]
  },
  {
   "cell_type": "code",
   "execution_count": 6,
   "id": "55928d04",
   "metadata": {},
   "outputs": [
    {
     "data": {
      "text/plain": [
       "['bowl_model_odi.pkl']"
      ]
     },
     "execution_count": 6,
     "metadata": {},
     "output_type": "execute_result"
    }
   ],
   "source": [
    "# 6: Train & Save Bowling Model for ODI\n",
    "\n",
    "X_bowl_odi = odi_bowling_df[bowling_features_odi]\n",
    "y_bowl_odi = odi_bowling_df['Selected']\n",
    "\n",
    "bowl_model_odi = RandomForestClassifier(n_estimators=100, random_state=42)\n",
    "bowl_model_odi.fit(X_bowl_odi, y_bowl_odi)\n",
    "\n",
    "joblib.dump(bowl_model_odi, 'bowl_model_odi.pkl')\n"
   ]
  },
  {
   "cell_type": "markdown",
   "id": "ab0f4c4e",
   "metadata": {},
   "source": [
    "7: Evaluate Accuracy (Optional)"
   ]
  },
  {
   "cell_type": "code",
   "execution_count": 7,
   "id": "f36e8df1",
   "metadata": {},
   "outputs": [
    {
     "name": "stdout",
     "output_type": "stream",
     "text": [
      "📈 ODI Batter Model Accuracy: 1.0\n",
      "📈 ODI Bowler Model Accuracy: 1.0\n"
     ]
    }
   ],
   "source": [
    "# 7: Optional - Evaluate Accuracy\n",
    "\n",
    "print(\"📈 ODI Batter Model Accuracy:\", bat_model_odi.score(X_bat_odi, y_bat_odi))\n",
    "print(\"📈 ODI Bowler Model Accuracy:\", bowl_model_odi.score(X_bowl_odi, y_bowl_odi))\n"
   ]
  }
 ],
 "metadata": {
  "kernelspec": {
   "display_name": "Python 3",
   "language": "python",
   "name": "python3"
  },
  "language_info": {
   "codemirror_mode": {
    "name": "ipython",
    "version": 3
   },
   "file_extension": ".py",
   "mimetype": "text/x-python",
   "name": "python",
   "nbconvert_exporter": "python",
   "pygments_lexer": "ipython3",
   "version": "3.9.7"
  }
 },
 "nbformat": 4,
 "nbformat_minor": 5
}
